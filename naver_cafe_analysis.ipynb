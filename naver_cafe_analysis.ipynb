{
 "cells": [
  {
   "cell_type": "markdown",
   "metadata": {},
   "source": [
    "### 각 정보별 그래프 분석\n",
    "\n",
    "이 파일 내 데이터\n",
    "- 게시판 종류\n",
    "- 제목\n",
    "- 날짜 및 시간\n",
    "- 조회수\n",
    "\n",
    "위의 데이터를 가지고 그래프 분석을 한 파일입니다.\n",
    "\n",
    "환경 \n",
    "VSCODE 내에서 실행 가능\n",
    "(google colab에서는 안 돌아갈 수 있음)"
   ]
  },
  {
   "cell_type": "code",
   "execution_count": 40,
   "metadata": {},
   "outputs": [],
   "source": [
    "import pandas as pd\n",
    "import matplotlib.pyplot as plt"
   ]
  },
  {
   "cell_type": "code",
   "execution_count": 41,
   "metadata": {},
   "outputs": [],
   "source": [
    "import matplotlib.font_manager as fm\n",
    "font_path = 'C:/Windows/Fonts/NanumGothic.ttf'  # Windows에서 한글 폰트 경로\n",
    "fontprop = fm.FontProperties(fname=font_path, size=12)"
   ]
  },
  {
   "cell_type": "code",
   "execution_count": null,
   "metadata": {},
   "outputs": [],
   "source": [
    "# 경로 붙여넣기\n",
    "file_path = \"test_info_analysis.csv\"\n",
    "df = pd.read_csv(file_path)\n",
    "df.head(5)"
   ]
  },
  {
   "cell_type": "code",
   "execution_count": null,
   "metadata": {},
   "outputs": [],
   "source": [
    "# 결과 출력\n",
    "print(\"게시글 개수:\", len(df))"
   ]
  },
  {
   "cell_type": "markdown",
   "metadata": {},
   "source": [
    "### 각 빈도수 체크\n",
    "\n",
    "게시글 빈도 수 체크\n",
    "\n",
    "1. 게시판 종류\n",
    "2. 시간별 (hour)\n",
    "3. 월별\n",
    "4. 일별"
   ]
  },
  {
   "cell_type": "markdown",
   "metadata": {},
   "source": [
    "게시글 종류별 빈도"
   ]
  },
  {
   "cell_type": "code",
   "execution_count": 44,
   "metadata": {},
   "outputs": [],
   "source": [
    "board_counts = df['board'].value_counts()"
   ]
  },
  {
   "cell_type": "code",
   "execution_count": null,
   "metadata": {},
   "outputs": [],
   "source": [
    "\n",
    "plt.figure(figsize=(12, 6))\n",
    "bars = plt.bar(board_counts.index, board_counts.values, color='skyblue')\n",
    "\n",
    "plt.title('게시판별 게시물 빈도', fontproperties=fontprop)\n",
    "plt.xlabel('게시판', fontproperties=fontprop)\n",
    "plt.ylabel('게시물 빈도', fontproperties=fontprop)\n",
    "\n",
    "for bar in bars:\n",
    "    yval = bar.get_height()\n",
    "    plt.text(bar.get_x() + bar.get_width()/2,\n",
    "             yval,\n",
    "             int(yval),\n",
    "             ha='center',\n",
    "             va='bottom',\n",
    "             fontsize=10)\n",
    "\n",
    "plt.xticks(fontproperties=fontprop)  # x축 레이블에 한글 폰트 적용\n",
    "plt.yticks(fontproperties=fontprop)  # y축 레이블에 한글 폰트 적용\n",
    "plt.show()"
   ]
  },
  {
   "cell_type": "markdown",
   "metadata": {},
   "source": [
    "시간별(hour)별 빈도"
   ]
  },
  {
   "cell_type": "code",
   "execution_count": 46,
   "metadata": {},
   "outputs": [],
   "source": [
    "time_hours = df['time'].str.split(':').str[0].astype(int)\n",
    "time_counts = time_hours.value_counts()"
   ]
  },
  {
   "cell_type": "code",
   "execution_count": 58,
   "metadata": {},
   "outputs": [],
   "source": [
    "# 원하는 건수 지정\n",
    "over_views = df[df['view'] > 30] \n",
    "time_over_views = over_views['time'].str.split(':').str[0].astype(int)\n",
    "over_views_counts = time_over_views.value_counts().sort_index()\n"
   ]
  },
  {
   "cell_type": "code",
   "execution_count": null,
   "metadata": {},
   "outputs": [],
   "source": [
    "plt.figure(figsize=(12, 6))\n",
    "\n",
    "# 첫 번째: 시간별 게시물 빈도수 (막대 그래프)\n",
    "bars = plt.bar(time_counts.index, time_counts.values, color='salmon', label='게시물 빈도수')\n",
    "\n",
    "# 두 번째: 시간별 조회수 1000건 넘는 게시글 빈도수 (선 그래프)\n",
    "plt.plot(over_views_counts.index, over_views_counts.values, color='blue', marker='o', label='조회수 ()건 넘는 게시물', linewidth=2)\n",
    "\n",
    "# 제목과 축 라벨 설정\n",
    "plt.title('시간별 게시물 빈도수 및 조회수 ()건 넘는 게시글', fontproperties=fontprop)\n",
    "plt.xlabel('시간', fontproperties=fontprop)\n",
    "plt.ylabel('빈도수', fontproperties=fontprop)\n",
    "\n",
    "# 막대 위에 값 표시\n",
    "for i, bar in enumerate(bars):\n",
    "    yval = time_counts.values[i]\n",
    "    plt.text(bar.get_x() + bar.get_width()/2,\n",
    "             yval,\n",
    "             int(yval),\n",
    "             ha='center',\n",
    "             va='bottom',\n",
    "             fontsize=10)\n",
    "\n",
    "# 선 위에 값 표시\n",
    "for i, value in enumerate(over_views_counts.values):\n",
    "    plt.text(over_views_counts.index[i],\n",
    "             value,\n",
    "             int(value),\n",
    "             ha='center',\n",
    "             va='bottom',\n",
    "             fontsize=10,\n",
    "             color='blue')\n",
    "\n",
    "# xticks, yticks 적용\n",
    "plt.xticks(fontproperties=fontprop)\n",
    "plt.yticks(fontproperties=fontprop)\n",
    "\n",
    "# 범례 표시 (prop 사용)\n",
    "plt.legend(prop=fontprop)\n",
    "\n",
    "plt.tight_layout()\n",
    "plt.show()\n"
   ]
  },
  {
   "cell_type": "markdown",
   "metadata": {},
   "source": [
    "월별 빈도"
   ]
  },
  {
   "cell_type": "code",
   "execution_count": 49,
   "metadata": {},
   "outputs": [],
   "source": [
    "month_counts = df['date'].str.split('.').str[1].value_counts()\n",
    "month_day_counts = df['date'].str[-6:-1].value_counts()"
   ]
  },
  {
   "cell_type": "code",
   "execution_count": null,
   "metadata": {},
   "outputs": [],
   "source": [
    "# 월별 빈도수 그래프\n",
    "plt.figure(figsize=(12, 8))\n",
    "sorted_month_counts = month_counts.sort_index()\n",
    "plt.bar(sorted_month_counts.index, sorted_month_counts.values, color='lightgreen')\n",
    "\n",
    "plt.title('월별 게시물 빈도수', fontproperties=fontprop)\n",
    "plt.xlabel('월', fontproperties=fontprop)\n",
    "plt.ylabel('게시물 빈도수', fontproperties=fontprop)\n",
    "\n",
    "for i, bar in enumerate(plt.bar(sorted_month_counts.index, sorted_month_counts.values, color='lightgreen')):\n",
    "    yval = sorted_month_counts.values[i]\n",
    "    plt.text(bar.get_x() + bar.get_width()/2,\n",
    "             yval,\n",
    "             int(yval),\n",
    "             ha='center',\n",
    "             va='bottom',\n",
    "             fontsize=10)\n",
    "    \n",
    "plt.xticks(fontproperties=fontprop) \n",
    "plt.yticks(fontproperties=fontprop) \n",
    "\n",
    "plt.show()"
   ]
  },
  {
   "cell_type": "markdown",
   "metadata": {},
   "source": [
    "날짜별 빈도"
   ]
  },
  {
   "cell_type": "code",
   "execution_count": null,
   "metadata": {},
   "outputs": [],
   "source": [
    "plt.figure(figsize=(14, 6)) # 크기 조정 가능 (가로, 세로)\n",
    "sorted_month_day_counts = month_day_counts.sort_index()\n",
    "plt.bar(sorted_month_day_counts.index, sorted_month_day_counts.values, color='lightcoral')\n",
    "\n",
    "plt.title('날짜별 게시물 빈도수', fontproperties=fontprop)\n",
    "plt.xlabel('날짜(월/일)', fontproperties=fontprop)\n",
    "plt.ylabel('게시물 빈도수', fontproperties=fontprop)\n",
    "\n",
    "plt.xticks(rotation=45) # x축(글씨) 기울기 45도 회전\n",
    "\n",
    "# 막대 위에 빈도수 표시\n",
    "for i, bar in enumerate(plt.bar(sorted_month_day_counts.index, sorted_month_day_counts.values, color='lightcoral')):\n",
    "    yval = sorted_month_day_counts.values[i]\n",
    "    plt.text(bar.get_x() + bar.get_width()/2,\n",
    "             yval,\n",
    "             int(yval),\n",
    "             ha='center',\n",
    "             va='bottom',\n",
    "             fontsize=8)\n",
    "    \n",
    "plt.xticks(fontproperties=fontprop) \n",
    "plt.yticks(fontproperties=fontprop) \n",
    "\n",
    "plt.show()"
   ]
  },
  {
   "cell_type": "markdown",
   "metadata": {},
   "source": [
    "#### 게시판별 조회수 체크\n",
    "\n",
    "1. 게시판 종류\n",
    "2. 게시물 업로드 시간별 (hour)\n",
    "\n",
    "→ 평균 추출"
   ]
  },
  {
   "cell_type": "markdown",
   "metadata": {},
   "source": [
    "게시판 종류별 평균 조회수"
   ]
  },
  {
   "cell_type": "code",
   "execution_count": null,
   "metadata": {},
   "outputs": [],
   "source": [
    "board_average_counts = df.groupby('board')['view'].mean()\n",
    "\n",
    "plt.figure(figsize=(12, 8))\n",
    "plt.plot(board_average_counts.index, board_average_counts.values, marker='o', color='skyblue', linestyle='-', linewidth=2)\n",
    "\n",
    "plt.title('게시판별 평균 조회수', fontproperties=fontprop)\n",
    "plt.xlabel('게시판', fontproperties=fontprop)\n",
    "plt.ylabel('평균 조회수', fontproperties=fontprop)\n",
    "\n",
    "for i, value in enumerate(board_average_counts.values):\n",
    "    plt.text(i, value + 5,\n",
    "             f'{value:.1f}',\n",
    "             ha='center',\n",
    "             va='bottom',\n",
    "             fontsize=10,\n",
    "             color='blue')\n",
    "    \n",
    "plt.xticks(fontproperties=fontprop) \n",
    "plt.yticks(fontproperties=fontprop) \n",
    "\n",
    "plt.show()"
   ]
  },
  {
   "cell_type": "markdown",
   "metadata": {},
   "source": [
    "시간별 평균 조회수 "
   ]
  },
  {
   "cell_type": "code",
   "execution_count": null,
   "metadata": {},
   "outputs": [],
   "source": [
    "time_average_counts = df.groupby(df['time'].str.split(':').str[0].astype(int))['view'].mean()\n",
    "\n",
    "plt.figure(figsize=(12, 8))\n",
    "plt.plot(time_average_counts.index.astype(int), time_average_counts.values, marker='o', color='salmon', linestyle='-', linewidth=2)\n",
    "\n",
    "plt.title('시간별 평균 조회수', fontproperties=fontprop)\n",
    "plt.xlabel('시간', fontproperties=fontprop)\n",
    "plt.ylabel('평균 조회수', fontproperties=fontprop)\n",
    "\n",
    "plt.xticks(time_average_counts.index.astype(int), rotation=0)  # x축 정보 표시\n",
    "\n",
    "for i, value in enumerate(time_average_counts.values):\n",
    "    plt.text(time_average_counts.index[i], value + 5,\n",
    "             f'{value:.1f}',\n",
    "             ha='center',\n",
    "             va='bottom',\n",
    "             fontsize=10,\n",
    "             color='red')\n",
    "    \n",
    "plt.xticks(fontproperties=fontprop) \n",
    "plt.yticks(fontproperties=fontprop) \n",
    "\n",
    "plt.show()"
   ]
  }
 ],
 "metadata": {
  "kernelspec": {
   "display_name": "Python 3",
   "language": "python",
   "name": "python3"
  },
  "language_info": {
   "codemirror_mode": {
    "name": "ipython",
    "version": 3
   },
   "file_extension": ".py",
   "mimetype": "text/x-python",
   "name": "python",
   "nbconvert_exporter": "python",
   "pygments_lexer": "ipython3",
   "version": "3.7.7"
  }
 },
 "nbformat": 4,
 "nbformat_minor": 2
}
