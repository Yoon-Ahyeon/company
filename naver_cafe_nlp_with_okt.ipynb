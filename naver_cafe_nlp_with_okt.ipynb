{
  "cells": [
    {
      "cell_type": "markdown",
      "metadata": {},
      "source": [
        "### 각 정보별 그래프 및 각 단어 분석\n",
        "\n",
        "이 파일 내 데이터\n",
        "- 게시판 종류\n",
        "- 제목\n",
        "- 날짜 및 시간\n",
        "- 본문\n",
        "- 댓글\n",
        "- 조회수\n",
        "\n",
        "위의 데이터를 가지고 그래프 분석이 가능하며,\n",
        "단어 빈도 추출이 가능한 파일입니다.\n",
        "\n",
        "\n",
        "환경 \n",
        "**google colab 내에서만 실행 가능**"
      ]
    },
    {
      "cell_type": "code",
      "execution_count": null,
      "metadata": {
        "colab": {
          "base_uri": "https://localhost:8080/"
        },
        "collapsed": true,
        "id": "3mOd_TmdkQrT",
        "outputId": "bbdb2e80-74b8-4222-b337-e0cf3ef29e8f"
      },
      "outputs": [],
      "source": [
        "# 설치 후, 세션 다시 시작 (그래프에 한글이 추력될 수 있도록 하는 것)\n",
        "!sudo apt-get install -y fonts-nanum\n",
        "!sudo fc-cache -fv\n",
        "!rm ~/.cache/matplotlib -rf"
      ]
    },
    {
      "cell_type": "code",
      "execution_count": null,
      "metadata": {
        "colab": {
          "base_uri": "https://localhost:8080/"
        },
        "collapsed": true,
        "id": "89AocQ1Z7Vy_",
        "outputId": "3c1745ff-0421-490a-a582-aba54d88e108"
      },
      "outputs": [],
      "source": [
        "!pip install konlpy"
      ]
    },
    {
      "cell_type": "code",
      "execution_count": 27,
      "metadata": {
        "id": "zBuoQIyS5mIU"
      },
      "outputs": [],
      "source": [
        "import pandas as pd\n",
        "import matplotlib.pyplot as plt\n",
        "\n",
        "import re\n",
        "from collections import Counter\n",
        "\n",
        "# from nltk.tokenize import word_tokenize\n",
        "# from nltk import ngrams\n",
        "# import nltk\n",
        "from konlpy.tag import Okt # 형태소 추출"
      ]
    },
    {
      "cell_type": "code",
      "execution_count": 3,
      "metadata": {
        "id": "pHcovsrlkzmp"
      },
      "outputs": [],
      "source": [
        "plt.rc('font', family='NanumBarunGothic')"
      ]
    },
    {
      "cell_type": "markdown",
      "metadata": {
        "id": "rj2IRWtN5tmv"
      },
      "source": [
        "### 파일 불러오기\n",
        "\n",
        "1. 왼쪽 중앙 파일 이모지 선택 후, 드라이브 마운트 클릭\n",
        "2. 불러올 파일 선택 후, 우클릭 후 경로 복사하기"
      ]
    },
    {
      "cell_type": "code",
      "execution_count": null,
      "metadata": {
        "colab": {
          "base_uri": "https://localhost:8080/",
          "height": 379
        },
        "id": "mtfcE_Gi7rJH",
        "outputId": "7f9a78c2-055d-406a-d3de-db77c5a88516"
      },
      "outputs": [],
      "source": [
        "# 경로 붙여넣기\n",
        "file_path = \"test_data_analysis.csv\"\n",
        "df = pd.read_csv(file_path, encoding=\"cp949\")\n",
        "df.head(5)"
      ]
    },
    {
      "cell_type": "code",
      "execution_count": 5,
      "metadata": {
        "colab": {
          "base_uri": "https://localhost:8080/"
        },
        "id": "55ScYXb98nRI",
        "outputId": "301a9a74-909d-4a53-ef39-7a0655f0493d"
      },
      "outputs": [
        {
          "name": "stdout",
          "output_type": "stream",
          "text": [
            "게시글 개수: 45\n"
          ]
        }
      ],
      "source": [
        "# 결과 출력\n",
        "print(\"게시글 개수:\", len(df))"
      ]
    },
    {
      "cell_type": "markdown",
      "metadata": {
        "id": "QMBjv_4fizTZ"
      },
      "source": [
        "### 각 빈도수 체크\n",
        "\n",
        "게시글 빈도 수 체크\n",
        "\n",
        "1. 게시판 종류\n",
        "2. 시간별 (hour)\n",
        "3. 월별\n",
        "4. 일별"
      ]
    },
    {
      "cell_type": "code",
      "execution_count": 6,
      "metadata": {
        "id": "VZBjUnLgiy5l"
      },
      "outputs": [],
      "source": [
        "# 게시글 빈도\n",
        "board_counts = df['board'].value_counts()"
      ]
    },
    {
      "cell_type": "code",
      "execution_count": null,
      "metadata": {
        "colab": {
          "base_uri": "https://localhost:8080/",
          "height": 480
        },
        "id": "yZVLVeEBjnM8",
        "outputId": "da4167c1-deeb-4f3e-b134-630885a0c1be"
      },
      "outputs": [],
      "source": [
        "plt.figure(figsize=(12, 6))\n",
        "bars = plt.bar(board_counts.index, board_counts.values, color='skyblue')\n",
        "\n",
        "plt.title('게시판별 게시물 빈도')\n",
        "plt.xlabel('게시판')\n",
        "plt.ylabel('게시물 빈도')\n",
        "\n",
        "for bar in bars:\n",
        "    yval = bar.get_height()\n",
        "    plt.text(bar.get_x() + bar.get_width()/2,\n",
        "             yval,\n",
        "             int(yval),\n",
        "             ha='center',\n",
        "             va='bottom',\n",
        "             fontsize=10)\n",
        "\n",
        "plt.show()"
      ]
    },
    {
      "cell_type": "code",
      "execution_count": 8,
      "metadata": {
        "id": "EuIbyG3OjMAb"
      },
      "outputs": [],
      "source": [
        "# 시간(hour) 빈도\n",
        "time_hours = df['time'].str.split(':').str[0].astype(int)\n",
        "time_counts = time_hours.value_counts()"
      ]
    },
    {
      "cell_type": "code",
      "execution_count": null,
      "metadata": {
        "colab": {
          "base_uri": "https://localhost:8080/",
          "height": 616
        },
        "id": "POf9XcAhk-YP",
        "outputId": "a0430bcc-f54d-4b90-e8e8-77be5bd23e68"
      },
      "outputs": [],
      "source": [
        "plt.figure(figsize=(12, 8))\n",
        "sorted_time_counts = time_counts.sort_index()\n",
        "plt.bar(sorted_time_counts.index, sorted_time_counts.values, color='salmon')\n",
        "\n",
        "plt.title('시간별 게시물 빈도수')\n",
        "plt.xlabel('시간')\n",
        "plt.ylabel('게시물 빈도')\n",
        "\n",
        "for i, bar in enumerate(plt.bar(sorted_time_counts.index, sorted_time_counts.values, color='salmon')):\n",
        "    yval = sorted_time_counts.values[i]\n",
        "    plt.text(bar.get_x() + bar.get_width()/2,\n",
        "             yval,\n",
        "             int(yval),\n",
        "             ha='center',\n",
        "             va='bottom',\n",
        "             fontsize=10)\n",
        "\n",
        "plt.show()"
      ]
    },
    {
      "cell_type": "code",
      "execution_count": 10,
      "metadata": {
        "id": "nFLNRu4djPbM"
      },
      "outputs": [],
      "source": [
        "# 날짜 빈도 (월/일)\n",
        "month_counts = df['date'].str.split('.').str[1].value_counts()\n",
        "month_day_counts = df['date'].str[-6:-1].value_counts()"
      ]
    },
    {
      "cell_type": "code",
      "execution_count": null,
      "metadata": {
        "colab": {
          "base_uri": "https://localhost:8080/",
          "height": 604
        },
        "id": "BZTxV0EXrbZa",
        "outputId": "418ec5ea-be07-4ed1-c807-7edade58b7a0"
      },
      "outputs": [],
      "source": [
        "# 월별 빈도수 그래프\n",
        "plt.figure(figsize=(12, 8))\n",
        "sorted_month_counts = month_counts.sort_index()\n",
        "plt.bar(sorted_month_counts.index, sorted_month_counts.values, color='lightgreen')\n",
        "\n",
        "plt.title('월별 게시물 빈도수')\n",
        "plt.xlabel('월')\n",
        "plt.ylabel('게시물 빈도수')\n",
        "\n",
        "for i, bar in enumerate(plt.bar(sorted_month_counts.index, sorted_month_counts.values, color='lightgreen')):\n",
        "    yval = sorted_month_counts.values[i]\n",
        "    plt.text(bar.get_x() + bar.get_width()/2,\n",
        "             yval,\n",
        "             int(yval),\n",
        "             ha='center',\n",
        "             va='bottom',\n",
        "             fontsize=10)\n",
        "\n",
        "plt.show()"
      ]
    },
    {
      "cell_type": "code",
      "execution_count": null,
      "metadata": {
        "colab": {
          "base_uri": "https://localhost:8080/",
          "height": 430
        },
        "id": "2dmzDKQCrkoQ",
        "outputId": "6358d661-5af7-49a2-ebd1-ac5993441d9c"
      },
      "outputs": [],
      "source": [
        "# 월/일 빈도수 그래프\n",
        "plt.figure(figsize=(14, 6)) # 크기 조정 가능 (가로, 세로)\n",
        "sorted_month_day_counts = month_day_counts.sort_index()\n",
        "plt.bar(sorted_month_day_counts.index, sorted_month_day_counts.values, color='lightcoral')\n",
        "\n",
        "plt.title('날짜별 게시물 빈도수')\n",
        "plt.xlabel('날짜(월/일)')\n",
        "plt.ylabel('게시물 빈도수')\n",
        "\n",
        "plt.xticks(rotation=45) # x축(글씨) 기울기 45도 회전\n",
        "\n",
        "# 막대 위에 빈도수 표시\n",
        "for i, bar in enumerate(plt.bar(sorted_month_day_counts.index, sorted_month_day_counts.values, color='lightcoral')):\n",
        "    yval = sorted_month_day_counts.values[i]\n",
        "    plt.text(bar.get_x() + bar.get_width()/2,\n",
        "             yval,\n",
        "             int(yval),\n",
        "             ha='center',\n",
        "             va='bottom',\n",
        "             fontsize=8)\n",
        "\n",
        "plt.show()"
      ]
    },
    {
      "cell_type": "markdown",
      "metadata": {
        "id": "hVvvgGuQt_Tn"
      },
      "source": [
        "게시판별 조회수 체크\n",
        "\n",
        "1. 게시판 종류\n",
        "2. 게시물 업로드 시간별 (hour)\n",
        "\n",
        "→ 평균 추출"
      ]
    },
    {
      "cell_type": "code",
      "execution_count": null,
      "metadata": {
        "colab": {
          "base_uri": "https://localhost:8080/",
          "height": 592
        },
        "id": "QwHf0YViuFL0",
        "outputId": "19e765a9-e2d9-4a7a-ae6c-4416d91f8b9f"
      },
      "outputs": [],
      "source": [
        "board_average_counts = df.groupby('board')['view'].mean()\n",
        "\n",
        "plt.figure(figsize=(12, 8))\n",
        "plt.plot(board_average_counts.index, board_average_counts.values, marker='o', color='skyblue', linestyle='-', linewidth=2)\n",
        "\n",
        "plt.title('게시판별 평균 조회수')\n",
        "plt.xlabel('게시판')\n",
        "plt.ylabel('평균 조회수')\n",
        "\n",
        "for i, value in enumerate(board_average_counts.values):\n",
        "    plt.text(i, value + 5,\n",
        "             f'{value:.1f}',\n",
        "             ha='center',\n",
        "             va='bottom',\n",
        "             fontsize=10,\n",
        "             color='blue')\n",
        "\n",
        "plt.show()"
      ]
    },
    {
      "cell_type": "code",
      "execution_count": null,
      "metadata": {
        "colab": {
          "base_uri": "https://localhost:8080/",
          "height": 606
        },
        "id": "nXJAd9FXuvvR",
        "outputId": "61511a0b-d1cd-446d-e06a-bf42e7fe218d"
      },
      "outputs": [],
      "source": [
        "time_average_counts = df.groupby(df['time'].str.split(':').str[0].astype(int))['view'].mean()\n",
        "\n",
        "plt.figure(figsize=(12, 8))\n",
        "plt.plot(time_average_counts.index.astype(int), time_average_counts.values, marker='o', color='salmon', linestyle='-', linewidth=2)\n",
        "\n",
        "plt.title('시간별 평균 조회수')\n",
        "plt.xlabel('시간')\n",
        "plt.ylabel('평균 조회수')\n",
        "\n",
        "plt.xticks(time_average_counts.index.astype(int), rotation=0)  # x축 정보 표시\n",
        "\n",
        "for i, value in enumerate(time_average_counts.values):\n",
        "    plt.text(time_average_counts.index[i], value + 5,\n",
        "             f'{value:.1f}',\n",
        "             ha='center',\n",
        "             va='bottom',\n",
        "             fontsize=10,\n",
        "             color='red')\n",
        "\n",
        "plt.show()"
      ]
    },
    {
      "cell_type": "markdown",
      "metadata": {
        "id": "fAKGICkx5tM_"
      },
      "source": [
        "### 데이터 전처리\n",
        "\n",
        "1. 제목\n",
        "2. 본문\n",
        "3. 댓글\n",
        "4. 제목 + 본문 + 댓글"
      ]
    },
    {
      "cell_type": "code",
      "execution_count": 15,
      "metadata": {
        "id": "vtOh7QsrtjO4"
      },
      "outputs": [],
      "source": [
        "# 정규화\n",
        "def text_clean(text):\n",
        "    pattern = '([a-zA-Z0-9_.+-]+@[a-zA-Z0-9-]+\\.[a-zA-Z0-9-.]+)'  # E-mail 제거\n",
        "    text = re.sub(pattern, '', text)\n",
        "    pattern = '(http|ftp|https)://(?:[-\\w.]|(?:%[\\da-fA-F]{2}))+'  # URL 제거\n",
        "    text = re.sub(pattern, '', text)\n",
        "    pattern = '[a-zA-Z0-9]'    # 숫자와 알파벳 제거\n",
        "    text = re.sub(pattern, '', text)\n",
        "    pattern = '([ㄱ-ㅎㅏ-ㅣ]+)'  # 한글 자음, 모음 제거\n",
        "    text = re.sub(pattern, '', text)\n",
        "    pattern = '<[^>]*>'         # HTML 태그 제거\n",
        "    text = re.sub(pattern, '', text)\n",
        "    pattern = '[^\\w\\s]'         # 특수기호 제거\n",
        "    text = re.sub(pattern, '', text)\n",
        "    pattern = '\\s+'             # 여러 개의 공백을 하나로\n",
        "    text = re.sub(pattern, ' ', text)\n",
        "    text = text.replace('\\n', '').replace('\\r', '')  # 줄바꿈 문자 제거\n",
        "    return text.strip()  # 양쪽 공백 제거"
      ]
    },
    {
      "cell_type": "code",
      "execution_count": 16,
      "metadata": {
        "id": "Zd8aKP9g778F"
      },
      "outputs": [],
      "source": [
        "title_pp = df['title'].apply(text_clean)\n",
        "content_pp = df['content'].apply(text_clean)\n",
        "comment_pp = df['comment'].apply(text_clean)"
      ]
    },
    {
      "cell_type": "markdown",
      "metadata": {
        "id": "yjB9iLSg5s6P"
      },
      "source": [
        "### 토큰화"
      ]
    },
    {
      "cell_type": "code",
      "execution_count": null,
      "metadata": {
        "colab": {
          "base_uri": "https://localhost:8080/"
        },
        "id": "0bYAwh6V-RmD",
        "outputId": "4652f434-e3dd-43af-9648-579390214f4f"
      },
      "outputs": [],
      "source": [
        "titles_list = title_pp.tolist()\n",
        "titles = ' '.join(titles_list)\n",
        "print(titles[:100])"
      ]
    },
    {
      "cell_type": "code",
      "execution_count": null,
      "metadata": {
        "colab": {
          "base_uri": "https://localhost:8080/"
        },
        "id": "tO07cVKUyhK6",
        "outputId": "2510ad02-1763-40cc-c4db-cc4d361f766d"
      },
      "outputs": [],
      "source": [
        "content_list = content_pp.tolist()\n",
        "contents = ' '.join(content_list)\n",
        "print(contents[:100])"
      ]
    },
    {
      "cell_type": "code",
      "execution_count": null,
      "metadata": {
        "colab": {
          "base_uri": "https://localhost:8080/"
        },
        "id": "bhHssAxbyhpF",
        "outputId": "9b8e0396-7722-42fa-fc01-63be66d4c4fb"
      },
      "outputs": [],
      "source": [
        "comments_list = comment_pp.tolist()\n",
        "comments = ' '.join(comments_list)\n",
        "print(comments[:100])"
      ]
    },
    {
      "cell_type": "code",
      "execution_count": null,
      "metadata": {
        "colab": {
          "base_uri": "https://localhost:8080/"
        },
        "id": "qT5Aslpg4yn-",
        "outputId": "e878a712-42b5-4bae-a481-6807513ff44c"
      },
      "outputs": [],
      "source": [
        "combined_text = ' '.join(title_pp.tolist() + content_pp.tolist() + comment_pp.tolist())\n",
        "print(combined_text[:100])"
      ]
    },
    {
      "cell_type": "markdown",
      "metadata": {
        "id": "M0GdhbxUzUY7"
      },
      "source": [
        "### 품사 태깅\n",
        "\n",
        "제목, 내용, 댓글 따로 정보 추출 가능"
      ]
    },
    {
      "cell_type": "code",
      "execution_count": null,
      "metadata": {
        "colab": {
          "base_uri": "https://localhost:8080/"
        },
        "id": "zWVMngXVzVid",
        "outputId": "1bb676f8-752a-45cc-8db4-0f2beb86f689"
      },
      "outputs": [],
      "source": [
        "tokenizer = Okt()\n",
        "# raw_pos_tagged = tokenizer.pos(titles, norm=True, stem=True)\n",
        "# raw_pos_tagged = tokenizer.pos(contents, norm=True, stem=True)\n",
        "# raw_pos_tagged = tokenizer.pos(comments, norm=True, stem=True)\n",
        "raw_pos_tagged = tokenizer.pos(combined_text, norm=True, stem=True)\n",
        "print(raw_pos_tagged)"
      ]
    },
    {
      "cell_type": "code",
      "execution_count": 57,
      "metadata": {
        "id": "OxXnkzHezqLV"
      },
      "outputs": [],
      "source": [
        "# 불용어 설정 (이는 txt 파일로 시중에 많음)\n",
        "stopwords = ['를', '이', '은', '는', '있다', '하다', '에', \"이다\", \"이후\", \"없다\", \"대해\", \"되다\"]"
      ]
    },
    {
      "cell_type": "code",
      "execution_count": 58,
      "metadata": {
        "id": "LslosF_B3KSh"
      },
      "outputs": [],
      "source": [
        "# ## 조사, 어미, 구두점, 외국어를 제외한 모든 품사\n",
        "# word_clean = []\n",
        "# for word in raw_pos_tagged:\n",
        "#   # 조사, 어미, 구두점, 외국어인 경우 제거\n",
        "#     if not word[1] in [\"Josa\", \"Eomi\", \"Punctuation\", \"Foreign\"]:\n",
        "#         # 단어의 길이가 1이 아니며, stopwords에 해당되지 않는 단어들\n",
        "#         if (len(word[0]) != 1) & (word[0] not in stopwords):\n",
        "#             word_clean.append(word[0])\n",
        "\n",
        "# print(\"정제된 단어 개수: \", len(word_clean))\n",
        "# print(\"단어 예시: \", word_clean[:5])"
      ]
    },
    {
      "cell_type": "code",
      "execution_count": null,
      "metadata": {
        "colab": {
          "base_uri": "https://localhost:8080/"
        },
        "id": "MsKQmQFo3PFP",
        "outputId": "e38cebe2-66bb-4f7a-a95b-c11ad06f8063"
      },
      "outputs": [],
      "source": [
        "## 명사 품사만 추출\n",
        "word_clean = []\n",
        "for word in raw_pos_tagged:\n",
        "    # 명사인 경우만 추가\n",
        "    if word[1] == \"Noun\":\n",
        "        # 단어의 길이가 1이 아니며, stopwords에 해당되지 않는 단어들\n",
        "        if (len(word[0]) != 1) & (word[0] not in stopwords):\n",
        "            word_clean.append(word[0])\n",
        "\n",
        "print(\"정제된 명사 개수: \", len(word_clean))\n",
        "print(\"명사 예시: \", word_clean[:5])"
      ]
    },
    {
      "cell_type": "code",
      "execution_count": 60,
      "metadata": {
        "id": "n1tMY1pO3t7H"
      },
      "outputs": [],
      "source": [
        "# ## 명사, 형용사 품사만 추출\n",
        "# word_clean_nouns_adjectives = []\n",
        "# for word in raw_pos_tagged:\n",
        "#     # 명사 또는 형용사인 경우 추가 (이 외에도 코드에 \"Verb\" 같은 품사들 추가 가능)\n",
        "#     if word[1] in [\"Noun\", \"Adjective\"]:\n",
        "#         # 단어의 길이가 1이 아니며, stopwords에 해당되지 않는 단어들\n",
        "#         if (len(word[0]) != 1) & (word[0] not in stopwords):\n",
        "#             word_clean_nouns_adjectives.append(word[0])\n",
        "\n",
        "# print(\"정제된 명사와 형용사 개수: \", len(word_clean_nouns_adjectives))\n",
        "# print(\"명사와 형용사 예시: \", word_clean_nouns_adjectives[:5])"
      ]
    },
    {
      "cell_type": "markdown",
      "metadata": {
        "id": "-1fLaNXE04fD"
      },
      "source": [
        "#### 단어 빈도 카운트"
      ]
    },
    {
      "cell_type": "code",
      "execution_count": null,
      "metadata": {
        "colab": {
          "base_uri": "https://localhost:8080/"
        },
        "id": "EKzkgLVG0V4d",
        "outputId": "3888131c-afd2-4651-9a00-bedf1ebc4da5"
      },
      "outputs": [],
      "source": [
        "result = Counter(word_clean)\n",
        "word_dic = dict(result)\n",
        "print(word_dic)"
      ]
    },
    {
      "cell_type": "code",
      "execution_count": null,
      "metadata": {
        "colab": {
          "base_uri": "https://localhost:8080/"
        },
        "id": "3_JT0Dc201xJ",
        "outputId": "b32e9ccb-0af9-4d3a-d667-ce6eaf5a1cca"
      },
      "outputs": [],
      "source": [
        "sorted_word_dic = sorted(word_dic.items(), key=lambda x:x[1], reverse=True)\n",
        "print(sorted_word_dic)"
      ]
    },
    {
      "cell_type": "code",
      "execution_count": null,
      "metadata": {
        "colab": {
          "base_uri": "https://localhost:8080/",
          "height": 224
        },
        "id": "8x-pVtqZ5M-c",
        "outputId": "6c1fb34f-d291-45e8-9b25-84ada45ebff8"
      },
      "outputs": [],
      "source": [
        "# # csv 저장 가능\n",
        "# df_sorted = pd.DataFrame(sorted_word_dic, columns=['Word', 'Frequency'])\n",
        "# df_sorted.to_csv('sorted_word_frequencies.csv', index=False, encoding='utf-8-sig')\n",
        "# print(\"CSV 파일로 저장되었습니다.\")\n",
        "# df_sorted.head(5)"
      ]
    },
    {
      "cell_type": "markdown",
      "metadata": {
        "id": "0loma_Um-WTr"
      },
      "source": [
        "### 빈도수 시각화"
      ]
    },
    {
      "cell_type": "markdown",
      "metadata": {
        "id": "23F9-EWd1IBK"
      },
      "source": [
        "line plot"
      ]
    },
    {
      "cell_type": "code",
      "execution_count": null,
      "metadata": {
        "colab": {
          "base_uri": "https://localhost:8080/",
          "height": 471
        },
        "id": "fh3MCnRB-V8-",
        "outputId": "aa738648-4d28-4e6e-fe64-18696940efa8"
      },
      "outputs": [],
      "source": [
        "word_counted = nltk.Text(word_clean)\n",
        "plt.figure(figsize=(15,7))\n",
        "word_counted.plot(50)"
      ]
    },
    {
      "cell_type": "markdown",
      "metadata": {
        "id": "ICr06WjQ1JQ_"
      },
      "source": [
        "bar plot"
      ]
    },
    {
      "cell_type": "code",
      "execution_count": null,
      "metadata": {
        "colab": {
          "base_uri": "https://localhost:8080/",
          "height": 339
        },
        "id": "H32SVfOjzewR",
        "outputId": "d6b305da-e2ca-4045-acfc-7b5115868682"
      },
      "outputs": [],
      "source": [
        "word_frequency = nltk.FreqDist(word_clean)\n",
        "df = pd.DataFrame(list(word_frequency.values()), word_frequency.keys())\n",
        "\n",
        "result = df.sort_values([0], ascending = False)\n",
        "result = result[:50]\n",
        "result.plot(kind='bar', legend=False, figsize=(15,5))\n",
        "plt.show()"
      ]
    },
    {
      "cell_type": "markdown",
      "metadata": {
        "id": "DAL-Qsl_1lml"
      },
      "source": [
        "#### 단어 빈도수에 맞게 표로 정리"
      ]
    },
    {
      "cell_type": "code",
      "execution_count": null,
      "metadata": {
        "colab": {
          "base_uri": "https://localhost:8080/",
          "height": 206
        },
        "id": "2oaQ2dyA1m9s",
        "outputId": "6d392867-834c-4b66-c23f-f577f671d0be"
      },
      "outputs": [],
      "source": [
        "# count 뒤 숫자는 원하는대로 설정\n",
        "filtered_word_dic = [(word, count) for word, count in sorted_word_dic if count >= 5]\n",
        "\n",
        "# dataframe 생성\n",
        "# columns명은 원하는대로 설정\n",
        "df_filtered = pd.DataFrame(filtered_word_dic, columns=['Word', 'Frequency'])\n",
        "df_filtered.head(5)"
      ]
    },
    {
      "cell_type": "code",
      "execution_count": null,
      "metadata": {
        "colab": {
          "base_uri": "https://localhost:8080/"
        },
        "id": "PqdUj8sw48hl",
        "outputId": "39b7e5b2-148d-442a-f583-829b0abf05ff"
      },
      "outputs": [],
      "source": [
        "## csv 파일 저장\n",
        "df_filtered.to_csv('filtered_word_frequencies.csv', index=False, encoding='utf-8-sig')\n",
        "print(\"CSV 파일로 저장되었습니다.\")"
      ]
    }
  ],
  "metadata": {
    "colab": {
      "provenance": []
    },
    "kernelspec": {
      "display_name": "Python 3",
      "name": "python3"
    },
    "language_info": {
      "name": "python"
    }
  },
  "nbformat": 4,
  "nbformat_minor": 0
}
